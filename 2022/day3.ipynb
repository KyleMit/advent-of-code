{
 "cells": [
  {
   "cell_type": "markdown",
   "metadata": {},
   "source": [
    "## [Day 3](https://adventofcode.com/2022/day/3)"
   ]
  },
  {
   "cell_type": "code",
   "execution_count": 38,
   "metadata": {},
   "outputs": [
    {
     "name": "stdout",
     "output_type": "stream",
     "text": [
      "round1=8252, round2=2828\n"
     ]
    }
   ],
   "source": [
    "with open('input/day3.txt', mode='r') as file:\n",
    "    rucksacks = file.read()\n",
    "\n",
    "# rucksacks = \\\n",
    "# \"\"\"vJrwpWtwJgWrhcsFMMfFFhFp\n",
    "# jqHRNqRjqzjGDLGLrsFMfFZSrLrFZsSL\n",
    "# PmmdzqPrVvPwwTWBwg\n",
    "# wMqvLMZHhHMvwLHjbvcjnnSBnvTQFn\n",
    "# ttgJtRGJQctTZtZT\n",
    "# CrZsJsPPZsGzwwsLwLmpwMDw\"\"\"\n",
    "\n",
    "def solveRound1():\n",
    "    total = 0\n",
    "    for sack in rucksacks.splitlines():\n",
    "        first, last = splitInHalf(sack)\n",
    "        intersection = set(first).intersection((last))\n",
    "        for char in intersection:\n",
    "            total += getPriority(char)\n",
    "    return total\n",
    "\n",
    "def solveRound2():\n",
    "    total = 0\n",
    "    for group in chunks(rucksacks.splitlines(), 3):\n",
    "        first, second, third = group\n",
    "        intersection = set(first).intersection(second).intersection(third)\n",
    "        for char in intersection:\n",
    "            total += getPriority(char)\n",
    "    return total\n",
    "\n",
    "def splitInHalf(string):\n",
    "    mid = len(string) // 2\n",
    "    return string[:mid], string[mid:]\n",
    "\n",
    "def getPriority(char: str) -> int:\n",
    "    start = 96 if char.islower() else 64 - 26\n",
    "    return ord(char) - start\n",
    "\n",
    "def chunks(lst: list, size: int):\n",
    "    for i in range(0, len(lst), size):\n",
    "        yield lst[i:i + size]\n",
    "\n",
    "\n",
    "round1 = solveRound1()\n",
    "round2 = solveRound2()\n",
    "\n",
    "print(f'{round1=}, {round2=}')"
   ]
  }
 ],
 "metadata": {
  "kernelspec": {
   "display_name": "Python 3.10.5 64-bit",
   "language": "python",
   "name": "python3"
  },
  "language_info": {
   "codemirror_mode": {
    "name": "ipython",
    "version": 3
   },
   "file_extension": ".py",
   "mimetype": "text/x-python",
   "name": "python",
   "nbconvert_exporter": "python",
   "pygments_lexer": "ipython3",
   "version": "3.10.5"
  },
  "orig_nbformat": 4,
  "vscode": {
   "interpreter": {
    "hash": "f312f4e3a09bfb7fe078cb3e3574063e75aca9697f016a80bb6567bf30b6b17e"
   }
  }
 },
 "nbformat": 4,
 "nbformat_minor": 2
}
