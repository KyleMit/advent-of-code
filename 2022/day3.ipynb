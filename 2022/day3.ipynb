{
 "cells": [
  {
   "cell_type": "markdown",
   "metadata": {},
   "source": [
    "## [Day 3](https://adventofcode.com/2022/day/3)"
   ]
  },
  {
   "cell_type": "code",
   "execution_count": 36,
   "metadata": {},
   "outputs": [
    {
     "name": "stdout",
     "output_type": "stream",
     "text": [
      "round1=8252, round2=2828\n"
     ]
    }
   ],
   "source": [
    "from enum import Enum\n",
    "\n",
    "with open('input/day3.txt', mode='r') as file:\n",
    "    rucksacks = file.read()\n",
    "\n",
    "# rucksacks = \\\n",
    "# \"\"\"vJrwpWtwJgWrhcsFMMfFFhFp\n",
    "# jqHRNqRjqzjGDLGLrsFMfFZSrLrFZsSL\n",
    "# PmmdzqPrVvPwwTWBwg\n",
    "# wMqvLMZHhHMvwLHjbvcjnnSBnvTQFn\n",
    "# ttgJtRGJQctTZtZT\n",
    "# CrZsJsPPZsGzwwsLwLmpwMDw\"\"\"\n",
    "\n",
    "def getPriority(char: str) -> int:\n",
    "    start = 96 if char.islower() else 64 - 26\n",
    "    priority = ord(char) - start\n",
    "    return priority\n",
    "\n",
    "def chunks(lst: list, size: int):\n",
    "    for i in range(0, len(lst), size):\n",
    "        yield lst[i:i + size]\n",
    "\n",
    "def solveRound1():\n",
    "    priorities = []\n",
    "    for sack in rucksacks.splitlines():\n",
    "        first, last = sack[:len(sack)//2], sack[len(sack)//2:]\n",
    "        intersection = set(first).intersection((last))\n",
    "        for char in intersection:\n",
    "            priorities.append(getPriority(char))\n",
    "    return sum(priorities)\n",
    "\n",
    "def solveRound2():\n",
    "    priorities = []\n",
    "    for group in chunks(rucksacks.splitlines(), 3):\n",
    "        first, second, third = group\n",
    "        intersection = set(first).intersection(second).intersection(third)\n",
    "        for char in intersection:\n",
    "            priorities.append(getPriority(char))\n",
    "    return sum(priorities)\n",
    "\n",
    "round1 = solveRound1()\n",
    "round2 = solveRound2()\n",
    "\n",
    "print(f'{round1=}, {round2=}')\n"
   ]
  },
  {
   "cell_type": "code",
   "execution_count": 32,
   "metadata": {},
   "outputs": [
    {
     "name": "stdout",
     "output_type": "stream",
     "text": [
      "[[1, 2], [3, 4], [5, 6]]\n"
     ]
    }
   ],
   "source": [
    "def chunks(lst, size):\n",
    "    for i in range(0, len(lst), size):\n",
    "        yield lst[i:i + size]\n",
    "\n",
    "lst = [1,2,3,4,5,6]\n",
    "\n",
    "print(list(chunks(lst, 2)))"
   ]
  }
 ],
 "metadata": {
  "kernelspec": {
   "display_name": "Python 3.10.5 64-bit",
   "language": "python",
   "name": "python3"
  },
  "language_info": {
   "codemirror_mode": {
    "name": "ipython",
    "version": 3
   },
   "file_extension": ".py",
   "mimetype": "text/x-python",
   "name": "python",
   "nbconvert_exporter": "python",
   "pygments_lexer": "ipython3",
   "version": "3.10.5"
  },
  "orig_nbformat": 4,
  "vscode": {
   "interpreter": {
    "hash": "f312f4e3a09bfb7fe078cb3e3574063e75aca9697f016a80bb6567bf30b6b17e"
   }
  }
 },
 "nbformat": 4,
 "nbformat_minor": 2
}
