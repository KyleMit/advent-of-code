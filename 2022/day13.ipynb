{
 "cells": [
  {
   "attachments": {},
   "cell_type": "markdown",
   "metadata": {},
   "source": [
    "## [Day 13](https://adventofcode.com/2022/day/13)"
   ]
  },
  {
   "cell_type": "code",
   "execution_count": 151,
   "metadata": {},
   "outputs": [
    {
     "name": "stdout",
     "output_type": "stream",
     "text": [
      "inOrderIndicesSum=6478\n",
      "dividersProduct=21922\n"
     ]
    }
   ],
   "source": [
    "from json import loads\n",
    "from typing import List\n",
    "from numbers import Number\n",
    "from functools import cmp_to_key\n",
    "from math import prod\n",
    "\n",
    "with open('input/day13.txt', mode='r') as file:\n",
    "    distressSignal = file.read()\n",
    "\n",
    "packetPairs = [list(map(loads, pair.splitlines())) for pair in distressSignal.split(\"\\n\\n\")]\n",
    "\n",
    "def islist(val):\n",
    "    return isinstance(val, List)\n",
    "\n",
    "def compareLeftLessThanRight(left, right):\n",
    "    return compareLeftRight(left, right) > 0\n",
    "\n",
    "def compareLeftRight(left, right):\n",
    "    # always convert to list\n",
    "    left = left if islist(left) else [left]\n",
    "    right = right if islist(right) else [right]\n",
    "\n",
    "    # zip coerces to even length - check length at bottom\n",
    "    for leftVal, rightVal in zip(left, right):\n",
    "        # if either child is a list, start again\n",
    "        if islist(leftVal) or islist(rightVal):\n",
    "            res = compareLeftRight(leftVal, rightVal)\n",
    "        else:\n",
    "            # value, get result by subtracting\n",
    "            res = rightVal - leftVal\n",
    "        \n",
    "        # early terminate if non-zero, otherwise continue\n",
    "        if res != 0:\n",
    "            return res # > 0\n",
    "    \n",
    "    return len(right) - len(left)\n",
    "\n",
    "def getInOrderPairsSum():\n",
    "    inOrderResults = [compareLeftLessThanRight(left, right) for left, right in packetPairs]\n",
    "    inOrderIndices = [i for i, inOrder in enumerate(inOrderResults, 1) if inOrder]\n",
    "    return sum(inOrderIndices)\n",
    "\n",
    "def getDividerPacketProduct():\n",
    "    dividers = [[[2]],[[6]]]\n",
    "    allPackets = [packet for pair in packetPairs for packet in pair]\n",
    "    packetsPlusDividers = allPackets + dividers\n",
    "    packetsSorted = sorted(packetsPlusDividers, key=cmp_to_key(compareLeftRight), reverse=True)\n",
    "    dividersIndices = [i for i, x in enumerate(packetsSorted, start=1) if x in dividers]\n",
    "    return prod(dividersIndices)\n",
    "\n",
    "inOrderIndicesSum = getInOrderPairsSum()\n",
    "dividersProduct = getDividerPacketProduct()\n",
    "\n",
    "print(f'{inOrderIndicesSum=}\\n{dividersProduct=}')\n"
   ]
  }
 ],
 "metadata": {
  "kernelspec": {
   "display_name": "Python 3.10.5 64-bit",
   "language": "python",
   "name": "python3"
  },
  "language_info": {
   "codemirror_mode": {
    "name": "ipython",
    "version": 3
   },
   "file_extension": ".py",
   "mimetype": "text/x-python",
   "name": "python",
   "nbconvert_exporter": "python",
   "pygments_lexer": "ipython3",
   "version": "3.10.5"
  },
  "orig_nbformat": 4,
  "vscode": {
   "interpreter": {
    "hash": "f312f4e3a09bfb7fe078cb3e3574063e75aca9697f016a80bb6567bf30b6b17e"
   }
  }
 },
 "nbformat": 4,
 "nbformat_minor": 2
}
