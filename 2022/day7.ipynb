{
 "cells": [
  {
   "attachments": {},
   "cell_type": "markdown",
   "metadata": {},
   "source": [
    "## [Day 7](https://adventofcode.com/2022/day/7)"
   ]
  },
  {
   "cell_type": "code",
   "execution_count": 5,
   "metadata": {},
   "outputs": [
    {
     "name": "stdout",
     "output_type": "stream",
     "text": [
      "defaultdict(<class 'list'>, {'': [('14848514', 'b.txt'), ('8504156', 'c.dat')], 'a': [('29116', 'f'), ('2557', 'g'), ('62596', 'h.lst')], 'a/e': [('584', 'i')], 'd': [('4060174', 'j'), ('8033020', 'd.log'), ('5626152', 'd.ext'), ('7214296', 'k')]})\n"
     ]
    }
   ],
   "source": [
    "from collections import defaultdict\n",
    "\n",
    "with open('input/day7.txt', mode='r') as file:\n",
    "    commands = file.read()\n",
    "\n",
    "curStack = []\n",
    "curPath = \"\"\n",
    "files = defaultdict(list)\n",
    "for line in commands.splitlines():\n",
    "    if line.startswith(\"$ cd\"):\n",
    "        # change directory command\n",
    "        path = line.replace(\"$ cd \", \"\")\n",
    "        if path == \"/\":\n",
    "            curStack = []\n",
    "        elif path == \"..\":\n",
    "            curStack.pop()\n",
    "        else:\n",
    "            curStack.append(path)\n",
    "        curPath = \"/\".join(curStack)\n",
    "\n",
    "    elif line.startswith(\"$ ls\"):   \n",
    "        # list directory command\n",
    "        continue     \n",
    "    \n",
    "    elif line.startswith(\"dir\"):\n",
    "        # print directory\n",
    "        continue\n",
    "    else:\n",
    "        # print file\n",
    "        size, name = line.split(\" \")\n",
    "        files[curPath].append((size, name))\n",
    "\n",
    "\n",
    "print(files)\n",
    "# split command and output\n",
    "# build tree view of files\n",
    "# maintain stack position\n"
   ]
  },
  {
   "cell_type": "code",
   "execution_count": 1,
   "metadata": {},
   "outputs": [
    {
     "data": {
      "text/plain": [
       "'/a/..'"
      ]
     },
     "execution_count": 1,
     "metadata": {},
     "output_type": "execute_result"
    }
   ],
   "source": [
    "import os\n",
    "\n",
    "os.path.join(\"/a/\", \"..\")"
   ]
  }
 ],
 "metadata": {
  "kernelspec": {
   "display_name": "Python 3.10.5 64-bit",
   "language": "python",
   "name": "python3"
  },
  "language_info": {
   "codemirror_mode": {
    "name": "ipython",
    "version": 3
   },
   "file_extension": ".py",
   "mimetype": "text/x-python",
   "name": "python",
   "nbconvert_exporter": "python",
   "pygments_lexer": "ipython3",
   "version": "3.10.5 (tags/v3.10.5:f377153, Jun  6 2022, 16:14:13) [MSC v.1929 64 bit (AMD64)]"
  },
  "orig_nbformat": 4,
  "vscode": {
   "interpreter": {
    "hash": "f312f4e3a09bfb7fe078cb3e3574063e75aca9697f016a80bb6567bf30b6b17e"
   }
  }
 },
 "nbformat": 4,
 "nbformat_minor": 2
}
