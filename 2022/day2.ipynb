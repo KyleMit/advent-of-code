{
 "cells": [
  {
   "cell_type": "markdown",
   "metadata": {},
   "source": [
    "## [Day 2](https://adventofcode.com/2022/day/2)"
   ]
  },
  {
   "cell_type": "code",
   "execution_count": 14,
   "metadata": {},
   "outputs": [
    {
     "name": "stdout",
     "output_type": "stream",
     "text": [
      "round1Score=12458, round2Score=12683\n"
     ]
    }
   ],
   "source": [
    "from enum import Enum\n",
    "\n",
    "with open('input/day2.txt', mode='r') as file:\n",
    "    strategyGuide = file.read()\n",
    "\n",
    "# strategyGuide = \\\n",
    "# \"\"\"A Y\n",
    "# B X\n",
    "# C Z\"\"\"\n",
    "\n",
    "rounds = strategyGuide.splitlines()\n",
    "\n",
    "# enums w/ points\n",
    "class Shape(Enum):\n",
    "    ROCK = 1\n",
    "    PAPER = 2\n",
    "    SCISSORS = 3\n",
    "\n",
    "class Outcome(Enum):\n",
    "    WIN = 6\n",
    "    LOSE = 0\n",
    "    DRAW = 3\n",
    "\n",
    "strategyToShape = {\n",
    "  \"A\": Shape.ROCK, \"B\": Shape.PAPER, \"C\": Shape.SCISSORS,\n",
    "  \"X\": Shape.ROCK, \"Y\": Shape.PAPER, \"Z\": Shape.SCISSORS,\n",
    "}\n",
    "\n",
    "strategyToOutcome = {\n",
    "  \"X\": Outcome.LOSE, \"Y\": Outcome.DRAW, \"Z\": Outcome.WIN,\n",
    "}\n",
    "\n",
    "# input -> winning shape\n",
    "winningShape = {\n",
    "    Shape.PAPER: Shape.SCISSORS,\n",
    "    Shape.ROCK: Shape.PAPER,\n",
    "    Shape.SCISSORS: Shape.ROCK\n",
    "}\n",
    "# input -> losing shape\n",
    "losingShape = dict([reversed(x) for x in winningShape.items()])\n",
    "\n",
    "def scoreRound1(round: str):\n",
    "    them, mine = round.split(\" \")\n",
    "    theirShape = strategyToShape[them]\n",
    "    myShape = strategyToShape[mine]\n",
    "    return scoreShapes(myShape, theirShape)\n",
    "\n",
    "def scoreRound2(round: str):\n",
    "    them, mine = round.split(\" \")\n",
    "    theirShape = strategyToShape[them]\n",
    "    myOutcome = strategyToOutcome[mine]\n",
    "    myShape = getStrategy(myOutcome, theirShape)\n",
    "    return scoreShapes(myShape, theirShape)\n",
    "\n",
    "def scoreShapes(myShape: Shape, theirShape: Shape):\n",
    "    return myShape.value + getOutcome(myShape, theirShape).value\n",
    "\n",
    "def getOutcome(myShape: Shape, theirShape: Shape):\n",
    "    if myShape == theirShape:\n",
    "        return Outcome.DRAW\n",
    "    elif myShape == winningShape[theirShape]:\n",
    "        return Outcome.WIN\n",
    "    else:\n",
    "        return Outcome.LOSE\n",
    "\n",
    "def getStrategy(myOutcome: Shape, theirShape: Shape):\n",
    "    if myOutcome == Outcome.DRAW:\n",
    "        return theirShape\n",
    "    elif myOutcome == Outcome.WIN:\n",
    "        return winningShape[theirShape]\n",
    "    else:\n",
    "        return losingShape[theirShape]\n",
    "\n",
    "round1Score = sum([scoreRound1(x) for x in rounds])\n",
    "round2Score = sum([scoreRound2(x) for x in rounds])\n",
    "\n",
    "print(f\"{round1Score=}, {round2Score=}\")\n",
    "\n"
   ]
  },
  {
   "cell_type": "code",
   "execution_count": 10,
   "metadata": {},
   "outputs": [
    {
     "name": "stdout",
     "output_type": "stream",
     "text": [
      "dict_keys([<Shape.PAPER: 2>, <Shape.ROCK: 1>, <Shape.SCISSORS: 3>])\n",
      "dict_values([<Shape.SCISSORS: 3>, <Shape.PAPER: 2>, <Shape.ROCK: 1>])\n"
     ]
    },
    {
     "data": {
      "text/plain": [
       "{<Shape.SCISSORS: 3>: <Shape.PAPER: 2>,\n",
       " <Shape.PAPER: 2>: <Shape.ROCK: 1>,\n",
       " <Shape.ROCK: 1>: <Shape.SCISSORS: 3>}"
      ]
     },
     "execution_count": 10,
     "metadata": {},
     "output_type": "execute_result"
    }
   ],
   "source": [
    "winningShape = {\n",
    "    Shape.PAPER: Shape.SCISSORS,\n",
    "    Shape.ROCK: Shape.PAPER,\n",
    "    Shape.SCISSORS: Shape.ROCK\n",
    "}\n",
    "print(winningShape.keys())\n",
    "print(winningShape.values())\n",
    "\n",
    "list(winningShape.values()).index(Shape.PAPER)\n",
    "dict([reversed(i) for i in winningShape.items()])"
   ]
  }
 ],
 "metadata": {
  "kernelspec": {
   "display_name": "Python 3.10.5 64-bit",
   "language": "python",
   "name": "python3"
  },
  "language_info": {
   "codemirror_mode": {
    "name": "ipython",
    "version": 3
   },
   "file_extension": ".py",
   "mimetype": "text/x-python",
   "name": "python",
   "nbconvert_exporter": "python",
   "pygments_lexer": "ipython3",
   "version": "3.10.5"
  },
  "orig_nbformat": 4,
  "vscode": {
   "interpreter": {
    "hash": "f312f4e3a09bfb7fe078cb3e3574063e75aca9697f016a80bb6567bf30b6b17e"
   }
  }
 },
 "nbformat": 4,
 "nbformat_minor": 2
}
