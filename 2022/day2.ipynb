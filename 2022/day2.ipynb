{
 "cells": [
  {
   "cell_type": "markdown",
   "metadata": {},
   "source": [
    "## [Day 2](https://adventofcode.com/2022/day/2)\n",
    "\n",
    "* Opponent Wil Play\n",
    "  * `A` - Rock\n",
    "  * `B` - Paper\n",
    "  * `C` - Scissors\n",
    "* You should play\n",
    "  * `X` - Rock\n",
    "  * `Y` - Paper\n",
    "  * `Z` - Scissors\n",
    "* Shape Score\n",
    "  * `1` - Rock\n",
    "  * `2` - Paper\n",
    "  * `3` - Scissors\n",
    "* Outcome score\n",
    "  * `0` - Lost\n",
    "  * `3` - Draw\n",
    "  * `6` - Won\n",
    "* Round 2 Strategy\n",
    "  * `X` - Lose\n",
    "  * `Y` - Draw\n",
    "  * `Z` - Win"
   ]
  },
  {
   "cell_type": "code",
   "execution_count": 1,
   "metadata": {},
   "outputs": [
    {
     "name": "stdout",
     "output_type": "stream",
     "text": [
      "round1Score=12458, round2Score=12683\n"
     ]
    }
   ],
   "source": [
    "with open('input/day2.txt', mode='r') as file:\n",
    "    strategyGuide = file.read()\n",
    "\n",
    "# strategyGuide = \\\n",
    "# \"\"\"A Y\n",
    "# B X\n",
    "# C Z\"\"\"\n",
    "\n",
    "rounds = strategyGuide.splitlines()\n",
    "\n",
    "def scoreRound(round: str):\n",
    "    them, mine = round.split(\" \")\n",
    "    shapeScore = 1 if mine == \"X\" else \\\n",
    "                 2 if mine == \"Y\" else \\\n",
    "                 3\n",
    "    outcomeScore = 6 if (mine == \"X\" and them == \"C\") or \\\n",
    "                        (mine == \"Y\" and them == \"A\") or \\\n",
    "                        (mine == \"Z\" and them == \"B\") else \\\n",
    "                   3 if (mine == \"X\" and them == \"A\") or \\\n",
    "                        (mine == \"Y\" and them == \"B\") or \\\n",
    "                        (mine == \"Z\" and them == \"C\") else \\\n",
    "                   0\n",
    "\n",
    "    return shapeScore + outcomeScore\n",
    "\n",
    "def determineThrow(round: str):\n",
    "    them, mine = round.split(\" \")\n",
    "    if mine == \"X\": # lose\n",
    "        actual = \"Z\" if them == \"A\" else \\\n",
    "                 \"X\" if them == \"B\" else \\\n",
    "                 \"Y\"\n",
    "    elif mine == \"Y\": # draw\n",
    "        actual = \"X\" if them == \"A\" else \\\n",
    "                 \"Y\" if them == \"B\" else \\\n",
    "                 \"Z\"\n",
    "    elif mine == \"Z\": # win\n",
    "        actual = \"Y\" if them == \"A\" else \\\n",
    "                 \"Z\" if them == \"B\" else \\\n",
    "                 \"X\"\n",
    "    return f'{them} {actual}'\n",
    "\n",
    "round1Score = sum(map(scoreRound, rounds))\n",
    "round2Score = sum(map(scoreRound, map(determineThrow, rounds)))\n",
    "\n",
    "print(f\"{round1Score=}, {round2Score=}\")\n",
    "\n"
   ]
  }
 ],
 "metadata": {
  "kernelspec": {
   "display_name": "Python 3.10.5 64-bit",
   "language": "python",
   "name": "python3"
  },
  "language_info": {
   "codemirror_mode": {
    "name": "ipython",
    "version": 3
   },
   "file_extension": ".py",
   "mimetype": "text/x-python",
   "name": "python",
   "nbconvert_exporter": "python",
   "pygments_lexer": "ipython3",
   "version": "3.10.5"
  },
  "orig_nbformat": 4,
  "vscode": {
   "interpreter": {
    "hash": "f312f4e3a09bfb7fe078cb3e3574063e75aca9697f016a80bb6567bf30b6b17e"
   }
  }
 },
 "nbformat": 4,
 "nbformat_minor": 2
}
