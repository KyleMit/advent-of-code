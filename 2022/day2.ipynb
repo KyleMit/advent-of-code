{
 "cells": [
  {
   "cell_type": "markdown",
   "metadata": {},
   "source": [
    "## [Day 2](https://adventofcode.com/2022/day/2)"
   ]
  },
  {
   "cell_type": "code",
   "execution_count": 21,
   "metadata": {},
   "outputs": [
    {
     "name": "stdout",
     "output_type": "stream",
     "text": [
      "round1Score=12458, round2Score=12683\n"
     ]
    }
   ],
   "source": [
    "from enum import Enum\n",
    "\n",
    "with open('input/day2.txt', mode='r') as file:\n",
    "    strategyGuide = file.read()\n",
    "\n",
    "# strategyGuide = \\\n",
    "# \"\"\"A Y\n",
    "# B X\n",
    "# C Z\"\"\"\n",
    "\n",
    "rounds = strategyGuide.splitlines()\n",
    "\n",
    "class TheirRPS(Enum):\n",
    "    ROCK = \"A\"\n",
    "    PAPER = \"B\"\n",
    "    SCISSORS = \"C\"\n",
    "\n",
    "class MyRPS(Enum):\n",
    "    ROCK = \"X\"\n",
    "    PAPER = \"Y\"\n",
    "    SCISSORS = \"Z\"\n",
    "\n",
    "class Strategy(Enum):\n",
    "    LOSE = \"X\"\n",
    "    DRAW = \"Y\"\n",
    "    WIN = \"Z\"\n",
    "\n",
    "shapeScores = {\n",
    "    MyRPS.ROCK: 1,\n",
    "    MyRPS.PAPER: 2,\n",
    "    MyRPS.SCISSORS: 3\n",
    "}\n",
    "\n",
    "outcomeScores = {\n",
    "    # wins\n",
    "    (MyRPS.ROCK, TheirRPS.SCISSORS): 6,\n",
    "    (MyRPS.PAPER, TheirRPS.ROCK): 6,\n",
    "    (MyRPS.SCISSORS, TheirRPS.PAPER): 6,\n",
    "    # ties\n",
    "    (MyRPS.ROCK, TheirRPS.ROCK): 3,\n",
    "    (MyRPS.PAPER, TheirRPS.PAPER): 3,\n",
    "    (MyRPS.SCISSORS, TheirRPS.SCISSORS): 3,\n",
    "    # loses\n",
    "    (MyRPS.ROCK, TheirRPS.PAPER): 0,\n",
    "    (MyRPS.PAPER, TheirRPS.SCISSORS): 0,\n",
    "    (MyRPS.SCISSORS, TheirRPS.ROCK): 0,\n",
    "}\n",
    "\n",
    "strategyThrows = {\n",
    "    Strategy.LOSE: {\n",
    "        TheirRPS.SCISSORS: MyRPS.PAPER,\n",
    "        TheirRPS.PAPER: MyRPS.ROCK,\n",
    "        TheirRPS.ROCK: MyRPS.SCISSORS\n",
    "    },\n",
    "    Strategy.DRAW: {\n",
    "        TheirRPS.SCISSORS: MyRPS.SCISSORS,\n",
    "        TheirRPS.PAPER: MyRPS.PAPER,\n",
    "        TheirRPS.ROCK: MyRPS.ROCK\n",
    "    },\n",
    "    Strategy.WIN: {\n",
    "        TheirRPS.PAPER: MyRPS.SCISSORS,\n",
    "        TheirRPS.ROCK: MyRPS.PAPER,\n",
    "        TheirRPS.SCISSORS: MyRPS.ROCK\n",
    "    },\n",
    "}\n",
    "\n",
    "\n",
    "def scoreRound(round: str):\n",
    "    them, mine = round.split(\" \")\n",
    "    \n",
    "    # convert to enum\n",
    "    themRPS, myRPS = TheirRPS(them), MyRPS(mine)\n",
    "    \n",
    "    shapeScore = shapeScores[myRPS]\n",
    "    outcomeScore = outcomeScores[(myRPS, themRPS)]\n",
    "\n",
    "    return shapeScore + outcomeScore\n",
    "\n",
    "def determineThrow(round: str):\n",
    "    them, mine = round.split(\" \")\n",
    "\n",
    "    # convert to enum\n",
    "    themRPS, myStrategy = TheirRPS(them), Strategy(mine)\n",
    "    myRPS = strategyThrows[myStrategy][themRPS]\n",
    "    \n",
    "    return f'{themRPS.value} {myRPS.value}'\n",
    "\n",
    "round1Score = sum([scoreRound(x) for x in rounds])\n",
    "round2Score = sum([scoreRound(determineThrow(x)) for x in rounds])\n",
    "\n",
    "print(f\"{round1Score=}, {round2Score=}\")\n",
    "\n"
   ]
  },
  {
   "cell_type": "markdown",
   "metadata": {},
   "source": [
    "## Instructions\n",
    "\n",
    "* Opponent Wil Play\n",
    "  * `A` - Rock\n",
    "  * `B` - Paper\n",
    "  * `C` - Scissors\n",
    "* You should play\n",
    "  * `X` - Rock\n",
    "  * `Y` - Paper\n",
    "  * `Z` - Scissors\n",
    "* Shape Score\n",
    "  * `1` - Rock\n",
    "  * `2` - Paper\n",
    "  * `3` - Scissors\n",
    "* Outcome score\n",
    "  * `0` - Lost\n",
    "  * `3` - Draw\n",
    "  * `6` - Won\n",
    "* Round 2 Strategy\n",
    "  * `X` - Lose\n",
    "  * `Y` - Draw\n",
    "  * `Z` - Win"
   ]
  }
 ],
 "metadata": {
  "kernelspec": {
   "display_name": "Python 3.10.5 64-bit",
   "language": "python",
   "name": "python3"
  },
  "language_info": {
   "codemirror_mode": {
    "name": "ipython",
    "version": 3
   },
   "file_extension": ".py",
   "mimetype": "text/x-python",
   "name": "python",
   "nbconvert_exporter": "python",
   "pygments_lexer": "ipython3",
   "version": "3.10.5"
  },
  "orig_nbformat": 4,
  "vscode": {
   "interpreter": {
    "hash": "f312f4e3a09bfb7fe078cb3e3574063e75aca9697f016a80bb6567bf30b6b17e"
   }
  }
 },
 "nbformat": 4,
 "nbformat_minor": 2
}
