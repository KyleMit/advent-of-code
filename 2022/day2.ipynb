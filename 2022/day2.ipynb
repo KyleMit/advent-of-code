{
 "cells": [
  {
   "cell_type": "markdown",
   "metadata": {},
   "source": [
    "## [Day 2](https://adventofcode.com/2022/day/2)"
   ]
  },
  {
   "cell_type": "code",
   "execution_count": 5,
   "metadata": {},
   "outputs": [
    {
     "name": "stdout",
     "output_type": "stream",
     "text": [
      "round1Score=12458, round2Score=12683\n"
     ]
    }
   ],
   "source": [
    "from enum import Enum\n",
    "\n",
    "with open('input/day2.txt', mode='r') as file:\n",
    "    strategyGuide = file.read()\n",
    "\n",
    "# strategyGuide = \\\n",
    "# \"\"\"A Y\n",
    "# B X\n",
    "# C Z\"\"\"\n",
    "\n",
    "rounds = strategyGuide.splitlines()\n",
    "\n",
    "# enums\n",
    "class Shape(Enum):\n",
    "    ROCK = 1\n",
    "    PAPER = 2\n",
    "    SCISSORS = 3\n",
    "\n",
    "class Outcome(Enum):\n",
    "    WIN = 6\n",
    "    LOSE = 0\n",
    "    DRAW = 3\n",
    "\n",
    "strategyToShape = {\n",
    "  \"A\": Shape.ROCK, \"B\": Shape.PAPER, \"C\": Shape.SCISSORS,\n",
    "  \"X\": Shape.ROCK, \"Y\": Shape.PAPER, \"Z\": Shape.SCISSORS,\n",
    "}\n",
    "\n",
    "strategyToOutcome = {\n",
    "  \"X\": Outcome.LOSE,  \"Y\": Outcome.DRAW,  \"Z\": Outcome.WIN,\n",
    "}\n",
    "\n",
    "# (mine, theirs): outcome\n",
    "outcomes = {\n",
    "    # wins\n",
    "    (Shape.ROCK, Shape.SCISSORS): Outcome.WIN,\n",
    "    (Shape.PAPER, Shape.ROCK): Outcome.WIN,\n",
    "    (Shape.SCISSORS, Shape.PAPER): Outcome.WIN,\n",
    "    # ties\n",
    "    (Shape.ROCK, Shape.ROCK): Outcome.DRAW,\n",
    "    (Shape.PAPER, Shape.PAPER): Outcome.DRAW,\n",
    "    (Shape.SCISSORS, Shape.SCISSORS): Outcome.DRAW,\n",
    "    # loses\n",
    "    (Shape.ROCK, Shape.PAPER): Outcome.LOSE,\n",
    "    (Shape.PAPER, Shape.SCISSORS): Outcome.LOSE,\n",
    "    (Shape.SCISSORS, Shape.ROCK): Outcome.LOSE,\n",
    "}\n",
    "\n",
    "strategyThrows = {\n",
    "    Outcome.LOSE: {\n",
    "        Shape.SCISSORS: Shape.PAPER,\n",
    "        Shape.PAPER: Shape.ROCK,\n",
    "        Shape.ROCK: Shape.SCISSORS\n",
    "    },\n",
    "    Outcome.DRAW: {\n",
    "        Shape.SCISSORS: Shape.SCISSORS,\n",
    "        Shape.PAPER: Shape.PAPER,\n",
    "        Shape.ROCK: Shape.ROCK\n",
    "    },\n",
    "    Outcome.WIN: {\n",
    "        Shape.PAPER: Shape.SCISSORS,\n",
    "        Shape.ROCK: Shape.PAPER,\n",
    "        Shape.SCISSORS: Shape.ROCK\n",
    "    },\n",
    "}\n",
    "\n",
    "\n",
    "def scoreRound1(round: str):\n",
    "    them, mine = round.split(\" \")\n",
    "    \n",
    "    # convert to enum\n",
    "    theirShape, myShape = strategyToShape[them], strategyToShape[mine]\n",
    "    \n",
    "    return scoreShapes(myShape, theirShape)\n",
    "\n",
    "def scoreRound2(round: str):\n",
    "    them, mine = round.split(\" \")\n",
    "\n",
    "    # convert to enum\n",
    "    theirShape, myOutcome = strategyToShape[them], strategyToOutcome[mine]\n",
    "\n",
    "    # determine my shape\n",
    "    myShape = strategyThrows[myOutcome][theirShape]\n",
    "    \n",
    "    return scoreShapes(myShape, theirShape)\n",
    "\n",
    "def scoreShapes(myShape: Shape, theirShape: Shape):\n",
    "    shapeScore = myShape.value\n",
    "    outcomeScore = outcomes[(myShape, theirShape)].value\n",
    "\n",
    "    return shapeScore + outcomeScore\n",
    "\n",
    "round1Score = sum([scoreRound1(x) for x in rounds])\n",
    "round2Score = sum([scoreRound2(x) for x in rounds])\n",
    "\n",
    "print(f\"{round1Score=}, {round2Score=}\")\n",
    "\n"
   ]
  },
  {
   "cell_type": "markdown",
   "metadata": {},
   "source": [
    "## Instructions\n",
    "\n",
    "* Opponent Wil Play\n",
    "  * `A` - Rock\n",
    "  * `B` - Paper\n",
    "  * `C` - Scissors\n",
    "* You should play\n",
    "  * `X` - Rock\n",
    "  * `Y` - Paper\n",
    "  * `Z` - Scissors\n",
    "* Shape Score\n",
    "  * `1` - Rock\n",
    "  * `2` - Paper\n",
    "  * `3` - Scissors\n",
    "* Outcome score\n",
    "  * `0` - Lost\n",
    "  * `3` - Draw\n",
    "  * `6` - Won\n",
    "* Round 2 Strategy\n",
    "  * `X` - Lose\n",
    "  * `Y` - Draw\n",
    "  * `Z` - Win"
   ]
  }
 ],
 "metadata": {
  "kernelspec": {
   "display_name": "Python 3.10.5 64-bit",
   "language": "python",
   "name": "python3"
  },
  "language_info": {
   "codemirror_mode": {
    "name": "ipython",
    "version": 3
   },
   "file_extension": ".py",
   "mimetype": "text/x-python",
   "name": "python",
   "nbconvert_exporter": "python",
   "pygments_lexer": "ipython3",
   "version": "3.10.5"
  },
  "orig_nbformat": 4,
  "vscode": {
   "interpreter": {
    "hash": "f312f4e3a09bfb7fe078cb3e3574063e75aca9697f016a80bb6567bf30b6b17e"
   }
  }
 },
 "nbformat": 4,
 "nbformat_minor": 2
}
