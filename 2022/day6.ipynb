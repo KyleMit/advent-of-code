{
 "cells": [
  {
   "cell_type": "markdown",
   "metadata": {},
   "source": [
    "## [Day 6](https://adventofcode.com/2022/day/6)"
   ]
  },
  {
   "cell_type": "code",
   "execution_count": 15,
   "metadata": {},
   "outputs": [
    {
     "name": "stdout",
     "output_type": "stream",
     "text": [
      "startOPacket=1356, startOfMessage=2564\n"
     ]
    }
   ],
   "source": [
    "with open('input/day6.txt', mode='r') as file:\n",
    "    signal = file.read()\n",
    "\n",
    "# spellchecker: disable-next-line\n",
    "# signal = \"mjqjpqmgbljsphdztnvjfqwrcgsmlb\"\n",
    "\n",
    "def containsDuplicate(string):\n",
    "    return len(set(string)) == len(string)\n",
    "\n",
    "for i in range(len(signal)):\n",
    "    packet = signal[i:i+4]\n",
    "    if containsDuplicate(packet):\n",
    "        startOPacket = i + len(packet)\n",
    "        break\n",
    "\n",
    "for i in range(startOPacket, len(signal)):\n",
    "    packet = signal[i:i+14]\n",
    "    if containsDuplicate(packet):\n",
    "        startOfMessage = i + len(packet)\n",
    "        break\n",
    "\n",
    "print(f'{startOPacket=}, {startOfMessage=}')\n",
    "\n",
    "\n"
   ]
  }
 ],
 "metadata": {
  "kernelspec": {
   "display_name": "Python 3.10.5 64-bit",
   "language": "python",
   "name": "python3"
  },
  "language_info": {
   "codemirror_mode": {
    "name": "ipython",
    "version": 3
   },
   "file_extension": ".py",
   "mimetype": "text/x-python",
   "name": "python",
   "nbconvert_exporter": "python",
   "pygments_lexer": "ipython3",
   "version": "3.10.5"
  },
  "orig_nbformat": 4,
  "vscode": {
   "interpreter": {
    "hash": "f312f4e3a09bfb7fe078cb3e3574063e75aca9697f016a80bb6567bf30b6b17e"
   }
  }
 },
 "nbformat": 4,
 "nbformat_minor": 2
}
