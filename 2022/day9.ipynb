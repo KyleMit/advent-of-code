{
 "cells": [
  {
   "attachments": {},
   "cell_type": "markdown",
   "metadata": {},
   "source": [
    "## [Day 9](https://adventofcode.com/2022/day/9)"
   ]
  },
  {
   "cell_type": "code",
   "execution_count": 13,
   "metadata": {},
   "outputs": [
    {
     "name": "stdout",
     "output_type": "stream",
     "text": [
      "shortRopeTailPositions=5735\n",
      "longRopeTailPositions=2478\n"
     ]
    }
   ],
   "source": [
    "with open('input/day9.txt', mode='r') as file:\n",
    "    headMovements = file.read()\n",
    "\n",
    "# Letter: [x,y]\n",
    "movements = {\n",
    "    \"U\": [0, -1],\n",
    "    \"D\": [0, 1],\n",
    "    \"L\": [-1, 0],\n",
    "    \"R\": [1, 0],\n",
    "}\n",
    "\n",
    "def addTailPosition(tailPositions, rope):\n",
    "    tail = rope[-1]\n",
    "    tailPositions.add(f'{tail[\"x\"]},{tail[\"y\"]}')\n",
    "\n",
    "def moveRopeAndGetTailPositions(rope):\n",
    "\n",
    "    tailPositions = set()\n",
    "    addTailPosition(tailPositions, rope)\n",
    "\n",
    "    for line in headMovements.splitlines():\n",
    "        direction, steps = line.split(\" \")\n",
    "        x,y = movements[direction]\n",
    "        # perform steps one a time\n",
    "        for i in range(int(steps)):\n",
    "            for pos in range(len(rope) - 1):\n",
    "                head = rope[pos]\n",
    "                tail = rope[pos + 1]\n",
    "\n",
    "                # only move head at top, all others react\n",
    "                if (pos == 0):\n",
    "                    head[\"x\"] += x\n",
    "                    head[\"y\"] += y\n",
    "\n",
    "                deltaX = head[\"x\"] - tail[\"x\"]\n",
    "                deltaY = head[\"y\"] - tail[\"y\"]\n",
    "\n",
    "                sameRow = head[\"y\"] == tail[\"y\"]\n",
    "                sameCol = head[\"x\"] == tail[\"x\"]\n",
    "                # determine how to move tail\n",
    "                if sameRow:\n",
    "                    if abs(deltaX) <= 1:\n",
    "                        # close enough, do nothing\n",
    "                        continue\n",
    "                    else:\n",
    "                        # move one step closer\n",
    "                        tail[\"x\"] += 1 if deltaX > 0 else -1\n",
    "\n",
    "                elif sameCol:\n",
    "                    if abs(deltaY) <= 1:\n",
    "                        # close enough, do nothing\n",
    "                        continue\n",
    "                    else:\n",
    "                        # move one step closer\n",
    "                        tail[\"y\"] += 1 if deltaY > 0 else -1\n",
    "                \n",
    "                else:\n",
    "                    # diff, row & col - move diagonally\n",
    "                    if abs(deltaY) <= 1 and abs(deltaX) <= 1:\n",
    "                        # close enough, do nothing\n",
    "                        continue\n",
    "                    else:\n",
    "                        # move one step closer\n",
    "                        tail[\"y\"] += 1 if deltaY > 0 else -1\n",
    "                        tail[\"x\"] += 1 if deltaX > 0 else -1\n",
    "                \n",
    "            # record position\n",
    "            addTailPosition(tailPositions, rope)\n",
    "\n",
    "    totalTailPositions = len(tailPositions)\n",
    "    return totalTailPositions\n",
    "\n",
    "shortRope = [{\"x\": 0, \"y\": 0} for _ in range(2)]\n",
    "longRope = [{\"x\": 0, \"y\": 0} for _ in range(10)]\n",
    "\n",
    "shortRopeTailPositions = moveRopeAndGetTailPositions(shortRope)\n",
    "longRopeTailPositions = moveRopeAndGetTailPositions(longRope)\n",
    "\n",
    "print(f'{shortRopeTailPositions=}\\n{longRopeTailPositions=}')\n",
    "\n"
   ]
  }
 ],
 "metadata": {
  "kernelspec": {
   "display_name": "Python 3.10.5 64-bit",
   "language": "python",
   "name": "python3"
  },
  "language_info": {
   "codemirror_mode": {
    "name": "ipython",
    "version": 3
   },
   "file_extension": ".py",
   "mimetype": "text/x-python",
   "name": "python",
   "nbconvert_exporter": "python",
   "pygments_lexer": "ipython3",
   "version": "3.10.5 (tags/v3.10.5:f377153, Jun  6 2022, 16:14:13) [MSC v.1929 64 bit (AMD64)]"
  },
  "orig_nbformat": 4,
  "vscode": {
   "interpreter": {
    "hash": "f312f4e3a09bfb7fe078cb3e3574063e75aca9697f016a80bb6567bf30b6b17e"
   }
  }
 },
 "nbformat": 4,
 "nbformat_minor": 2
}
