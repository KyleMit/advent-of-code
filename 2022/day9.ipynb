{
 "cells": [
  {
   "attachments": {},
   "cell_type": "markdown",
   "metadata": {},
   "source": [
    "## [Day 9](https://adventofcode.com/2022/day/9)"
   ]
  },
  {
   "cell_type": "code",
   "execution_count": 4,
   "metadata": {},
   "outputs": [
    {
     "data": {
      "text/plain": [
       "5735"
      ]
     },
     "execution_count": 4,
     "metadata": {},
     "output_type": "execute_result"
    }
   ],
   "source": [
    "with open('input/day9.txt', mode='r') as file:\n",
    "    headMovements = file.read()\n",
    "\n",
    "# headMovements = \"\"\"R 4\n",
    "# U 4\n",
    "# L 3\n",
    "# D 1\n",
    "# R 4\n",
    "# D 1\n",
    "# L 5\n",
    "# R 2\"\"\"\n",
    "\n",
    "# Letter: [x,y]\n",
    "movements = {\n",
    "    \"U\": [0, -1],\n",
    "    \"D\": [0, 1],\n",
    "    \"L\": [-1, 0],\n",
    "    \"R\": [1, 0],\n",
    "}\n",
    "\n",
    "headX = 0\n",
    "headY = 0\n",
    "tailX = 0\n",
    "tailY = 0\n",
    "\n",
    "tailPositions = set()\n",
    "tailPositions.add(f'{tailX},{tailY}')\n",
    "\n",
    "\n",
    "for line in headMovements.splitlines():\n",
    "    direction, steps = line.split(\" \")\n",
    "    # perform steps one a time\n",
    "    for i in range(int(steps)):\n",
    "        x,y = movements[direction]\n",
    "\n",
    "        # first move head\n",
    "        headX += x\n",
    "        headY += y\n",
    "\n",
    "        deltaX = headX - tailX\n",
    "        deltaY = headY - tailY\n",
    "\n",
    "        sameRow = headY == tailY\n",
    "        sameCol = headX == tailX\n",
    "        # determine how to move tail\n",
    "        if sameRow:\n",
    "            if abs(deltaX) <= 1:\n",
    "                # close enough, do nothing\n",
    "                continue\n",
    "            else:\n",
    "                # move one step closer\n",
    "                tailX += 1 if deltaX > 0 else -1\n",
    "\n",
    "        elif sameCol:\n",
    "            if abs(deltaY) <= 1:\n",
    "                # close enough, do nothing\n",
    "                continue\n",
    "            else:\n",
    "                # move one step closer\n",
    "                tailY += 1 if deltaY > 0 else -1\n",
    "        \n",
    "        else:\n",
    "            # diff, row & col - move diagonally\n",
    "            if abs(deltaY) <= 1 and abs(deltaX) <= 1:\n",
    "                # close enough, do nothing\n",
    "                continue\n",
    "            else:\n",
    "                # move one step closer\n",
    "                tailY += 1 if deltaY > 0 else -1\n",
    "                tailX += 1 if deltaX > 0 else -1\n",
    "        \n",
    "        # record position\n",
    "        tailPositions.add(f'{tailX},{tailY}')\n",
    "\n",
    "totalTailPositions = len(tailPositions)\n",
    "totalTailPositions\n",
    "\n",
    "\n",
    "\n",
    "#print(f'{visibleTrees=}, {maxVisibility=}')\n",
    "\n"
   ]
  },
  {
   "cell_type": "code",
   "execution_count": 2,
   "metadata": {},
   "outputs": [
    {
     "name": "stdout",
     "output_type": "stream",
     "text": [
      "{1, 2}\n",
      "{1, 2, 3, 4}\n"
     ]
    }
   ],
   "source": [
    "a = set()\n",
    "\n",
    "a.add(1)\n",
    "a.add(2)\n",
    "print(a) # {1, 2}\n",
    "\n",
    "a.update([3, 4])\n",
    "print(a) # {1, 2, 3, 4}"
   ]
  }
 ],
 "metadata": {
  "kernelspec": {
   "display_name": "Python 3.10.5 64-bit",
   "language": "python",
   "name": "python3"
  },
  "language_info": {
   "codemirror_mode": {
    "name": "ipython",
    "version": 3
   },
   "file_extension": ".py",
   "mimetype": "text/x-python",
   "name": "python",
   "nbconvert_exporter": "python",
   "pygments_lexer": "ipython3",
   "version": "3.10.5"
  },
  "orig_nbformat": 4,
  "vscode": {
   "interpreter": {
    "hash": "f312f4e3a09bfb7fe078cb3e3574063e75aca9697f016a80bb6567bf30b6b17e"
   }
  }
 },
 "nbformat": 4,
 "nbformat_minor": 2
}
