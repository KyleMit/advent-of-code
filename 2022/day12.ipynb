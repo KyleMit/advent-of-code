{
 "cells": [
  {
   "attachments": {},
   "cell_type": "markdown",
   "metadata": {},
   "source": [
    "## [Day 12](https://adventofcode.com/2022/day/12)"
   ]
  },
  {
   "cell_type": "code",
   "execution_count": 20,
   "metadata": {},
   "outputs": [
    {
     "name": "stdout",
     "output_type": "stream",
     "text": [
      "monkeyBusinessRound1=121450\n",
      "monkeyBusinessRound2=28244037010\n"
     ]
    }
   ],
   "source": [
    "with open('input/day12.txt', mode='r') as file:\n",
    "    map = file.read()\n",
    "\n",
    "\n",
    "#print(f'{monkeyBusinessRound1=}\\n{monkeyBusinessRound2=}')\n"
   ]
  }
 ],
 "metadata": {
  "kernelspec": {
   "display_name": "Python 3.10.5 64-bit",
   "language": "python",
   "name": "python3"
  },
  "language_info": {
   "codemirror_mode": {
    "name": "ipython",
    "version": 3
   },
   "file_extension": ".py",
   "mimetype": "text/x-python",
   "name": "python",
   "nbconvert_exporter": "python",
   "pygments_lexer": "ipython3",
   "version": "3.10.5 (tags/v3.10.5:f377153, Jun  6 2022, 16:14:13) [MSC v.1929 64 bit (AMD64)]"
  },
  "orig_nbformat": 4,
  "vscode": {
   "interpreter": {
    "hash": "f312f4e3a09bfb7fe078cb3e3574063e75aca9697f016a80bb6567bf30b6b17e"
   }
  }
 },
 "nbformat": 4,
 "nbformat_minor": 2
}
