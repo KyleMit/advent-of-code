{
 "cells": [
  {
   "cell_type": "markdown",
   "metadata": {},
   "source": [
    "## [Day 5](https://adventofcode.com/2022/day/5)"
   ]
  },
  {
   "cell_type": "code",
   "execution_count": 150,
   "metadata": {},
   "outputs": [
    {
     "name": "stdout",
     "output_type": "stream",
     "text": [
      "MCD\n"
     ]
    }
   ],
   "source": [
    "import re\n",
    "from collections import defaultdict\n",
    "from typing import Dict\n",
    "\n",
    "with open('input/day5.txt', mode='r') as file:\n",
    "    input = file.read()\n",
    "\n",
    "input = \"\"\"\n",
    "    [D]    \n",
    "[N] [C]    \n",
    "[Z] [M] [P]\n",
    " 1   2   3 \n",
    "\n",
    "move 1 from 2 to 1\n",
    "move 3 from 1 to 3\n",
    "move 2 from 2 to 1\n",
    "move 1 from 1 to 2\n",
    "\"\"\"\n",
    "\n",
    "def parseInput(input):\n",
    "    rows, moves = [], []\n",
    "    for line in input.splitlines():\n",
    "        if \"[\" in line:\n",
    "            rows.append([[m.start(0) + 1, m.group(1)] for m in re.finditer(\"\\[(.)\\]\", line)])\n",
    "\n",
    "        elif line.startswith(\"move\"):\n",
    "            res = re.search(\"move (\\d+) from (\\d+) to (\\d+)\", line)\n",
    "            moves.append([int(x) for x in res.groups()]) # [amt, frm, to]\n",
    "\n",
    "\n",
    "    # default item is list so we can append right away\n",
    "    cols = defaultdict(list)\n",
    "    for row in reversed(rows):\n",
    "        for cell in row:\n",
    "            pos, char = cell\n",
    "            cols[pos].append(char)\n",
    "\n",
    "    # re-key dictionary 1..n\n",
    "    cols = {i+1: x for i,x in enumerate(cols.values())}\n",
    "\n",
    "    return cols, moves\n",
    "\n",
    "Columns = Dict[int, list[int]]\n",
    "\n",
    "def makeSlowMoves(cols: Columns, moves: list[int]):\n",
    "    for move in moves:\n",
    "        amt, frm, to = move\n",
    "        for _ in range(amt):\n",
    "            cols[to].append(cols[frm].pop())\n",
    "    return cols\n",
    "\n",
    "def makeSwiftMoves(cols: Columns, moves: list[int]):\n",
    "    for move in moves:\n",
    "        amt, frm, to = move\n",
    "        blocks = [cols[frm].pop() for _ in range(amt)]\n",
    "        cols[to].extend(reversed(blocks))\n",
    "    return cols\n",
    "\n",
    "def getToppers(cols: Columns):\n",
    "    tops = [x[-1] for x in cols.values()]\n",
    "    return \"\".join(tops)\n",
    "\n",
    "columns, moves = parseInput(input)\n",
    "shuffled = makeSwiftMoves(columns, moves)\n",
    "topBlocks = getToppers(shuffled)\n",
    "\n",
    "\n",
    "print(topBlocks)\n"
   ]
  },
  {
   "cell_type": "code",
   "execution_count": 132,
   "metadata": {},
   "outputs": [
    {
     "ename": "KeyError",
     "evalue": "(<class 'int'>, list[str])",
     "output_type": "error",
     "traceback": [
      "\u001b[1;31m---------------------------------------------------------------------------\u001b[0m",
      "\u001b[1;31mKeyError\u001b[0m                                  Traceback (most recent call last)",
      "Cell \u001b[1;32mIn[132], line 3\u001b[0m\n\u001b[0;32m      1\u001b[0m xs \u001b[39m=\u001b[39m {\u001b[39m1\u001b[39m: [\u001b[39m'\u001b[39m\u001b[39ma\u001b[39m\u001b[39m'\u001b[39m,\u001b[39m'\u001b[39m\u001b[39mb\u001b[39m\u001b[39m'\u001b[39m], \u001b[39m4\u001b[39m: [\u001b[39m'\u001b[39m\u001b[39mc\u001b[39m\u001b[39m'\u001b[39m]}\n\u001b[1;32m----> 3\u001b[0m \u001b[39mdef\u001b[39;00m \u001b[39mgetLastItem\u001b[39m(cols: \u001b[39mdict\u001b[39;49m[\u001b[39mint\u001b[39;49m, \u001b[39mlist\u001b[39;49m[\u001b[39mstr\u001b[39;49m]]):\n\u001b[0;32m      4\u001b[0m     \u001b[39mprint\u001b[39m(cols\u001b[39m.\u001b[39mvalues())\n\u001b[0;32m      5\u001b[0m     lasts \u001b[39m=\u001b[39m [x[\u001b[39m-\u001b[39m\u001b[39m1\u001b[39m] \u001b[39mfor\u001b[39;00m x \u001b[39min\u001b[39;00m cols\u001b[39m.\u001b[39mvalues()]\n",
      "\u001b[1;31mKeyError\u001b[0m: (<class 'int'>, list[str])"
     ]
    }
   ],
   "source": [
    "xs = {1: ['a','b'], 4: ['c']}\n",
    "\n",
    "def getLastItem(cols: dict[int, list[str]]):\n",
    "    print(cols.values())\n",
    "    lasts = [x[-1] for x in cols.values()]\n",
    "    print(lasts)\n",
    "    return \"\".join(lasts)\n",
    "\n",
    "getLastItem(xs)"
   ]
  },
  {
   "cell_type": "code",
   "execution_count": 139,
   "metadata": {},
   "outputs": [],
   "source": [
    "from typing import Dict\n",
    "xs: Dict[int, str] = {1: 'a', 4: 'c'}\n"
   ]
  },
  {
   "cell_type": "code",
   "execution_count": 148,
   "metadata": {},
   "outputs": [
    {
     "ename": "KeyError",
     "evalue": "(<class 'int'>, <class 'str'>)",
     "output_type": "error",
     "traceback": [
      "\u001b[1;31m---------------------------------------------------------------------------\u001b[0m",
      "\u001b[1;31mKeyError\u001b[0m                                  Traceback (most recent call last)",
      "Cell \u001b[1;32mIn[148], line 1\u001b[0m\n\u001b[1;32m----> 1\u001b[0m xs: \u001b[39mdict\u001b[39;49m[\u001b[39mint\u001b[39;49m, \u001b[39mstr\u001b[39;49m] \u001b[39m=\u001b[39m {\u001b[39m1\u001b[39m: \u001b[39m'\u001b[39m\u001b[39ma\u001b[39m\u001b[39m'\u001b[39m, \u001b[39m4\u001b[39m: \u001b[39m'\u001b[39m\u001b[39mc\u001b[39m\u001b[39m'\u001b[39m}\n",
      "\u001b[1;31mKeyError\u001b[0m: (<class 'int'>, <class 'str'>)"
     ]
    }
   ],
   "source": [
    "xs: dict[int, str] = {1: 'a', 4: 'c'}"
   ]
  },
  {
   "cell_type": "code",
   "execution_count": 149,
   "metadata": {},
   "outputs": [
    {
     "name": "stdout",
     "output_type": "stream",
     "text": [
      "3.10.5 (tags/v3.10.5:f377153, Jun  6 2022, 16:14:13) [MSC v.1929 64 bit (AMD64)]\n"
     ]
    }
   ],
   "source": [
    "import sys\n",
    "print(sys.version)"
   ]
  },
  {
   "cell_type": "code",
   "execution_count": 145,
   "metadata": {},
   "outputs": [
    {
     "name": "stdout",
     "output_type": "stream",
     "text": [
      "3.10.5 (tags/v3.10.5:f377153, Jun  6 2022, 16:14:13) [MSC v.1929 64 bit (AMD64)]\n"
     ]
    }
   ],
   "source": [
    "import sys\n",
    "print(sys.version)"
   ]
  }
 ],
 "metadata": {
  "kernelspec": {
   "display_name": "Python 3.10.5 64-bit",
   "language": "python",
   "name": "python3"
  },
  "language_info": {
   "codemirror_mode": {
    "name": "ipython",
    "version": 3
   },
   "file_extension": ".py",
   "mimetype": "text/x-python",
   "name": "python",
   "nbconvert_exporter": "python",
   "pygments_lexer": "ipython3",
   "version": "3.10.5"
  },
  "orig_nbformat": 4,
  "vscode": {
   "interpreter": {
    "hash": "f312f4e3a09bfb7fe078cb3e3574063e75aca9697f016a80bb6567bf30b6b17e"
   }
  }
 },
 "nbformat": 4,
 "nbformat_minor": 2
}
