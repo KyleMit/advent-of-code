{
 "cells": [
  {
   "cell_type": "markdown",
   "metadata": {},
   "source": [
    "## [Day 5](https://adventofcode.com/2022/day/5)"
   ]
  },
  {
   "cell_type": "code",
   "execution_count": 1,
   "metadata": {},
   "outputs": [
    {
     "name": "stdout",
     "output_type": "stream",
     "text": [
      "round1Solution='CMZ'\n",
      "round2Solution='MCD'\n"
     ]
    }
   ],
   "source": [
    "import re\n",
    "from collections import defaultdict\n",
    "from typing import Dict, Tuple, List\n",
    "\n",
    "with open('input/day5.txt', mode='r') as file:\n",
    "    input = file.read()\n",
    "\n",
    "\n",
    "# type aliases\n",
    "Columns = Dict[int, list[str]]\n",
    "Moves = List[Tuple[int, int, int]]\n",
    "\n",
    "def parseInput(input):\n",
    "    rows, moves = [], []\n",
    "    for line in input.splitlines():\n",
    "        if \"[\" in line:\n",
    "            # find position and character\n",
    "            matches = re.finditer(\"\\[(.)\\]\", line)\n",
    "            rows.append([[m.start() + 1, m.group(1)] for m in matches])\n",
    "\n",
    "        elif line.startswith(\"move\"):\n",
    "            res = re.search(\"move (\\d+) from (\\d+) to (\\d+)\", line)\n",
    "            moves.append(tuple(int(x) for x in res.groups())) # [amt, frm, to]\n",
    "\n",
    "\n",
    "    # default item is list so we can append right away\n",
    "    cols = defaultdict(list)\n",
    "\n",
    "    # reverse so we start at bottom, then slot into cols (index on position)\n",
    "    for row in reversed(rows):\n",
    "        for cell in row:\n",
    "            pos, char = cell\n",
    "            cols[pos].append(char)\n",
    "\n",
    "    # re-key dictionary 1..n\n",
    "    cols = {i+1: x for i,x in enumerate(cols.values())}\n",
    "\n",
    "    return cols, moves\n",
    "\n",
    "def makeSlowMoves(cols: Columns, moves: Moves):\n",
    "    for move in moves:\n",
    "        amt, frm, to = move\n",
    "        # move over one at a time\n",
    "        for _ in range(amt):\n",
    "            cols[to].append(cols[frm].pop())\n",
    "    return cols\n",
    "\n",
    "def makeSwiftMoves(cols: Columns, moves: Moves):\n",
    "    for move in moves:\n",
    "        amt, frm, to = move\n",
    "        # move over entire chunk\n",
    "        blocks = [cols[frm].pop() for _ in range(amt)]\n",
    "        cols[to].extend(reversed(blocks))\n",
    "    return cols\n",
    "\n",
    "def getToppers(cols: Columns):\n",
    "    tops = [x[-1] for x in cols.values()]\n",
    "    return \"\".join(tops)\n",
    "\n",
    "def round1():\n",
    "    columns, moves = parseInput(input)\n",
    "    shuffled = makeSlowMoves(columns, moves)\n",
    "    return getToppers(shuffled)\n",
    "\n",
    "def round2():\n",
    "    columns, moves = parseInput(input)\n",
    "    shuffled = makeSwiftMoves(columns, moves)\n",
    "    return getToppers(shuffled)\n",
    "\n",
    "round1Solution = round1()\n",
    "round2Solution = round2()\n",
    "\n",
    "print(f'{round1Solution=}\\n{round2Solution=}')\n"
   ]
  }
 ],
 "metadata": {
  "kernelspec": {
   "display_name": "Python 3.10.5 64-bit",
   "language": "python",
   "name": "python3"
  },
  "language_info": {
   "codemirror_mode": {
    "name": "ipython",
    "version": 3
   },
   "file_extension": ".py",
   "mimetype": "text/x-python",
   "name": "python",
   "nbconvert_exporter": "python",
   "pygments_lexer": "ipython3",
   "version": "3.10.5"
  },
  "orig_nbformat": 4,
  "vscode": {
   "interpreter": {
    "hash": "f312f4e3a09bfb7fe078cb3e3574063e75aca9697f016a80bb6567bf30b6b17e"
   }
  }
 },
 "nbformat": 4,
 "nbformat_minor": 2
}
