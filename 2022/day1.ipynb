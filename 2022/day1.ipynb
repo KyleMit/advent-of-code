{
 "cells": [
  {
   "cell_type": "markdown",
   "metadata": {},
   "source": [
    "## [Day 1](https://adventofcode.com/2022/day/1)"
   ]
  },
  {
   "cell_type": "code",
   "execution_count": 2,
   "metadata": {},
   "outputs": [
    {
     "name": "stdout",
     "output_type": "stream",
     "text": [
      "highestCalories=24000, topTheeElvesSum=45000\n"
     ]
    }
   ],
   "source": [
    "with open('input/day1.txt', mode='r') as file:\n",
    "    calorieList = file.read()\n",
    "\n",
    "# calorieList = \"\"\"\n",
    "# 1000\n",
    "# 2000\n",
    "# 3000\n",
    "\n",
    "# 4000\n",
    "\n",
    "# 5000\n",
    "# 6000\n",
    "\n",
    "# 7000\n",
    "# 8000\n",
    "# 9000\n",
    "\n",
    "# 10000\n",
    "# \"\"\"\n",
    "\n",
    "elfSupplies = calorieList.split(\"\\n\\n\")\n",
    "elfCalories = [sum(list(map(int, elf.split()))) for elf in elfSupplies]\n",
    "sortedElves = sorted(elfCalories, reverse=True)\n",
    "\n",
    "highestCalories = sortedElves[0]\n",
    "topTheeElvesSum = sum(sortedElves[:3])\n",
    "\n",
    "print(f\"{highestCalories=}, {topTheeElvesSum=}\")"
   ]
  }
 ],
 "metadata": {
  "kernelspec": {
   "display_name": "Python 3.10.5 64-bit",
   "language": "python",
   "name": "python3"
  },
  "language_info": {
   "codemirror_mode": {
    "name": "ipython",
    "version": 3
   },
   "file_extension": ".py",
   "mimetype": "text/x-python",
   "name": "python",
   "nbconvert_exporter": "python",
   "pygments_lexer": "ipython3",
   "version": "3.10.5"
  },
  "orig_nbformat": 4,
  "vscode": {
   "interpreter": {
    "hash": "f312f4e3a09bfb7fe078cb3e3574063e75aca9697f016a80bb6567bf30b6b17e"
   }
  }
 },
 "nbformat": 4,
 "nbformat_minor": 2
}
