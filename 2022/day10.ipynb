{
 "cells": [
  {
   "attachments": {},
   "cell_type": "markdown",
   "metadata": {},
   "source": [
    "## [Day 10](https://adventofcode.com/2022/day/10)"
   ]
  },
  {
   "cell_type": "code",
   "execution_count": 15,
   "metadata": {},
   "outputs": [
    {
     "data": {
      "text/plain": [
       "14780"
      ]
     },
     "execution_count": 15,
     "metadata": {},
     "output_type": "execute_result"
    }
   ],
   "source": [
    "with open('input/day10.txt', mode='r') as file:\n",
    "    instructions = file.read()\n",
    "\n",
    "register = 1\n",
    "cycles = 1\n",
    "strengthIntervals = []\n",
    "\n",
    "for command in instructions.splitlines():\n",
    "\n",
    "    if command == \"noop\":\n",
    "        cyclesDelta = 1\n",
    "        registerDelta = 0\n",
    "    else: # addx\n",
    "        cyclesDelta = 2\n",
    "        registerDelta = int(command.split(' ')[1])\n",
    "        \n",
    "    for i in range(cyclesDelta):\n",
    "        if (cycles - 20) % 40 == 0:\n",
    "            signalStrength = cycles * register\n",
    "            strengthIntervals.append(signalStrength)\n",
    "        cycles += 1\n",
    "    \n",
    "    register += registerDelta\n",
    "           \n",
    "sumStrengthIntervals = sum(strengthIntervals)\n",
    "\n",
    "\n",
    "print(f'{sumStrengthIntervals=}')\n",
    "\n"
   ]
  }
 ],
 "metadata": {
  "kernelspec": {
   "display_name": "Python 3.10.5 64-bit",
   "language": "python",
   "name": "python3"
  },
  "language_info": {
   "codemirror_mode": {
    "name": "ipython",
    "version": 3
   },
   "file_extension": ".py",
   "mimetype": "text/x-python",
   "name": "python",
   "nbconvert_exporter": "python",
   "pygments_lexer": "ipython3",
   "version": "3.10.5"
  },
  "orig_nbformat": 4,
  "vscode": {
   "interpreter": {
    "hash": "f312f4e3a09bfb7fe078cb3e3574063e75aca9697f016a80bb6567bf30b6b17e"
   }
  }
 },
 "nbformat": 4,
 "nbformat_minor": 2
}
