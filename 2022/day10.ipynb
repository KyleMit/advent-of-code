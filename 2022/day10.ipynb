{
 "cells": [
  {
   "attachments": {},
   "cell_type": "markdown",
   "metadata": {},
   "source": [
    "## [Day 10](https://adventofcode.com/2022/day/10)"
   ]
  },
  {
   "cell_type": "code",
   "execution_count": 14,
   "metadata": {},
   "outputs": [
    {
     "name": "stdout",
     "output_type": "stream",
     "text": [
      "cycleIntervalStrengthSum=14780\n",
      "####.#....###..#....####..##..####.#...#\n",
      "#....#....#..#.#.......#.#..#....#.#....\n",
      "###..#....#..#.#......#..#......#..#....\n",
      "#....#....###..#.....#...#.##..#...#...#\n",
      "#....#....#....#....#....#..#.#....#....\n",
      "####.####.#....####.####..###.####.####.\n",
      "ELPLZGZL\n"
     ]
    }
   ],
   "source": [
    "with open('input/day10.txt', mode='r') as file:\n",
    "    instructions = file.read()\n",
    "\n",
    "def getCyclesAndRegisters():\n",
    "    cyclesAndRegisters = []        \n",
    "    \n",
    "    register = 1\n",
    "    cycle = 1\n",
    "\n",
    "    for command in instructions.splitlines():\n",
    "\n",
    "        if command == \"noop\":\n",
    "            cyclesDelta = 1\n",
    "            registerDelta = 0\n",
    "        else: # addx\n",
    "            cyclesDelta = 2\n",
    "            registerDelta = int(command.split(' ')[1])\n",
    "            \n",
    "        for i in range(cyclesDelta):\n",
    "            cyclesAndRegisters.append([cycle, register])\n",
    "            cycle += 1\n",
    "        \n",
    "        register += registerDelta\n",
    "\n",
    "    return cyclesAndRegisters\n",
    "\n",
    "def getCycleIntervalStrengthSum():\n",
    "    cyclesAndRegisters = getCyclesAndRegisters()\n",
    "    intervalStrengths = [x[0] * x[1] for x in cyclesAndRegisters if (x[0] - 20) % 40 == 0]\n",
    "    return sum(intervalStrengths)\n",
    "\n",
    "def generateSprites():\n",
    "    sprites = []\n",
    "    cyclesAndRegisters = getCyclesAndRegisters()\n",
    "\n",
    "    for cycle, register in cyclesAndRegisters:\n",
    "        pixelPosition = cycle % 40 - 1\n",
    "        sprite = \"#\" if register - 1 <= pixelPosition <= register + 1 else \".\"\n",
    "        sprites.append(sprite)\n",
    "\n",
    "    return sprites\n",
    "\n",
    "def chunks(lst, size):\n",
    "    for i in range(0, len(lst), size):\n",
    "        yield lst[i:i + size]\n",
    "\n",
    "def printCrtLines():\n",
    "    sprites = generateSprites()\n",
    "    crtLines = [\"\".join(list(line)) for line in chunks(sprites, 40)]\n",
    "    print(*crtLines, sep=\"\\n\")\n",
    "\n",
    "cycleIntervalStrengthSum = getCycleIntervalStrengthSum()\n",
    "\n",
    "print(f'{cycleIntervalStrengthSum=}')\n",
    "\n",
    "# spellchecker: disable-next-line\n",
    "print(\"ELPLZGZL\")\n",
    "printCrtLines()\n",
    "\n"
   ]
  },
  {
   "cell_type": "code",
   "execution_count": 48,
   "metadata": {},
   "outputs": [
    {
     "name": "stdout",
     "output_type": "stream",
     "text": [
      "<generator object chunks at 0x00000289F49EDFC0>\n",
      "[[1, 2], [3, 4], [5, 6]]\n"
     ]
    }
   ],
   "source": [
    "def chunks(iterable, chunk_size):\n",
    "    i = 0\n",
    "    while i < len(iterable):\n",
    "        yield iterable[i:i+chunk_size]\n",
    "        i += chunk_size\n",
    "\n",
    "lst = [1,2,3,4,5,6]\n",
    "chk = chunks(lst, 2)\n",
    "\n",
    "print(chk)\n",
    "print(list(chk)) # [[1, 2], [3, 4], [5, 6]]"
   ]
  }
 ],
 "metadata": {
  "kernelspec": {
   "display_name": "Python 3.10.5 64-bit",
   "language": "python",
   "name": "python3"
  },
  "language_info": {
   "codemirror_mode": {
    "name": "ipython",
    "version": 3
   },
   "file_extension": ".py",
   "mimetype": "text/x-python",
   "name": "python",
   "nbconvert_exporter": "python",
   "pygments_lexer": "ipython3",
   "version": "3.10.5"
  },
  "orig_nbformat": 4,
  "vscode": {
   "interpreter": {
    "hash": "f312f4e3a09bfb7fe078cb3e3574063e75aca9697f016a80bb6567bf30b6b17e"
   }
  }
 },
 "nbformat": 4,
 "nbformat_minor": 2
}
