{
 "cells": [
  {
   "attachments": {},
   "cell_type": "markdown",
   "metadata": {},
   "source": [
    "## [Day 15](https://adventofcode.com/2022/day/15)\n"
   ]
  },
  {
   "cell_type": "code",
   "execution_count": 89,
   "metadata": {},
   "outputs": [
    {
     "name": "stdout",
     "output_type": "stream",
     "text": [
      "numPositionsExcluded=4737443\n"
     ]
    }
   ],
   "source": [
    "from re import search\n",
    "\n",
    "with open('input/day15.txt', mode='r') as file:\n",
    "    beachMap = file.read()\n",
    "\n",
    "def manhattanDistance(ax, ay, bx, by):\n",
    "    dist_x = abs(ax - bx)\n",
    "    dist_y = abs(ay - by)\n",
    "    return dist_x + dist_y\n",
    "\n",
    "def getExcludedBeaconPositions(targetRow):\n",
    "    excludedPositions = set()\n",
    "    beacons = set()\n",
    "\n",
    "    for line in beachMap.splitlines():\n",
    "        res = search(\"Sensor at x=(-?\\d+), y=(-?\\d+): closest beacon is at x=(-?\\d+), y=(-?\\d+)\", line)\n",
    "        sx, sy, bx, by = [int(x) for x in res.groups()]\n",
    "        distFromBeacon = manhattanDistance(sx, sy, bx, by)\n",
    "        distToTargetRow_y = abs(targetRow - sy)\n",
    "        remainingDist_x = distFromBeacon - distToTargetRow_y\n",
    "\n",
    "        if remainingDist_x >= 0:\n",
    "            # we're close enough to the target, mark beacons as safe\n",
    "            start_x = sx - remainingDist_x\n",
    "            stop_x = sx + remainingDist_x\n",
    "            excludedPositions.update(range(start_x, stop_x + 1))\n",
    "\n",
    "        if by == targetRow:\n",
    "            beacons.add(bx)\n",
    "\n",
    "    excludedPositions.difference_update(beacons)\n",
    "    return excludedPositions\n",
    "\n",
    "targetRow = 2000000\n",
    "excludedPositions = getExcludedBeaconPositions(targetRow)\n",
    "numPositionsExcluded = len(excludedPositions)\n",
    "\n",
    "# print(sorted(list(excludedPositions)))\n",
    "\n",
    "print(f'{numPositionsExcluded=}')\n"
   ]
  }
 ],
 "metadata": {
  "kernelspec": {
   "display_name": "Python 3",
   "language": "python",
   "name": "python3"
  },
  "language_info": {
   "codemirror_mode": {
    "name": "ipython",
    "version": 3
   },
   "file_extension": ".py",
   "mimetype": "text/x-python",
   "name": "python",
   "nbconvert_exporter": "python",
   "pygments_lexer": "ipython3",
   "version": "3.10.2"
  },
  "orig_nbformat": 4,
  "vscode": {
   "interpreter": {
    "hash": "07dba96b0f5b47a7eb35937f903f829846d7d04e5209b245cc2c92bd39210318"
   }
  }
 },
 "nbformat": 4,
 "nbformat_minor": 2
}
