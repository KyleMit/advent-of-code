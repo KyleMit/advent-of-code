{
 "cells": [
  {
   "attachments": {},
   "cell_type": "markdown",
   "metadata": {},
   "source": [
    "## [Day 15](https://adventofcode.com/2022/day/15)\n"
   ]
  },
  {
   "cell_type": "code",
   "execution_count": 27,
   "metadata": {},
   "outputs": [
    {
     "ename": "KeyboardInterrupt",
     "evalue": "",
     "output_type": "error",
     "traceback": [
      "\u001b[1;31m---------------------------------------------------------------------------\u001b[0m",
      "\u001b[1;31mKeyboardInterrupt\u001b[0m                         Traceback (most recent call last)",
      "Cell \u001b[1;32mIn[27], line 49\u001b[0m\n\u001b[0;32m     45\u001b[0m limit_min \u001b[39m=\u001b[39m \u001b[39mmin\u001b[39m(limits)\n\u001b[0;32m     47\u001b[0m \u001b[39mfor\u001b[39;00m targetRow \u001b[39min\u001b[39;00m \u001b[39mrange\u001b[39m(\u001b[39m0\u001b[39m, limit_max \u001b[39m+\u001b[39m \u001b[39m1\u001b[39m):\n\u001b[0;32m     48\u001b[0m     \u001b[39m# check each row\u001b[39;00m\n\u001b[1;32m---> 49\u001b[0m     excludedPositions \u001b[39m=\u001b[39m getExcludedBeaconPositions(targetRow, limit_min, limit_max)\n\u001b[0;32m     50\u001b[0m     numPositionsExcluded \u001b[39m=\u001b[39m \u001b[39mlen\u001b[39m(excludedPositions)\n\u001b[0;32m     51\u001b[0m     \u001b[39mif\u001b[39;00m numPositionsExcluded \u001b[39m!=\u001b[39m limit_max \u001b[39m+\u001b[39m \u001b[39m1\u001b[39m:\n",
      "Cell \u001b[1;32mIn[27], line 35\u001b[0m, in \u001b[0;36mgetExcludedBeaconPositions\u001b[1;34m(targetRow, limit_min, limit_max)\u001b[0m\n\u001b[0;32m     32\u001b[0m         stop_x \u001b[39m=\u001b[39m \u001b[39mmin\u001b[39m(sx \u001b[39m+\u001b[39m remainingDist_x, limit_max)\n\u001b[0;32m     33\u001b[0m         excludedPositions\u001b[39m.\u001b[39mupdate(\u001b[39mrange\u001b[39m(start_x, stop_x \u001b[39m+\u001b[39m \u001b[39m1\u001b[39m))\n\u001b[1;32m---> 35\u001b[0m     \u001b[39mif\u001b[39;00m by \u001b[39m==\u001b[39;49m targetRow:\n\u001b[0;32m     36\u001b[0m         excludedPositions\u001b[39m.\u001b[39madd(bx)\n\u001b[0;32m     38\u001b[0m excludedPositions\u001b[39m.\u001b[39mdifference_update(beacons)\n",
      "\u001b[1;31mKeyboardInterrupt\u001b[0m: "
     ]
    }
   ],
   "source": [
    "from re import search\n",
    "\n",
    "with open('input/day15.txt', mode='r') as file:\n",
    "    beachMap = file.read()\n",
    "\n",
    "def manhattanDistance(ax, ay, bx, by):\n",
    "    dist_x = abs(ax - bx)\n",
    "    dist_y = abs(ay - by)\n",
    "    return dist_x + dist_y\n",
    "\n",
    "def getSensorMap():\n",
    "    sensorMap = []\n",
    "    for line in beachMap.splitlines():\n",
    "        res = search(\"Sensor at x=(-?\\d+), y=(-?\\d+): closest beacon is at x=(-?\\d+), y=(-?\\d+)\", line)\n",
    "        sx, sy, bx, by = [int(x) for x in res.groups()]\n",
    "        distFromBeacon = manhattanDistance(sx, sy, bx, by)\n",
    "        sensorMap.append([sx, sy, bx, by, distFromBeacon])\n",
    "    return sensorMap\n",
    "\n",
    "def getExcludedBeaconPositions(targetRow, limit_min, limit_max):\n",
    "    excludedPositions = set()\n",
    "    beacons = set()\n",
    "\n",
    "    for sensors in sensorMap:\n",
    "        sx, sy, bx, by, distFromBeacon = sensors\n",
    "        distToTargetRow_y = abs(targetRow - sy)\n",
    "        remainingDist_x = distFromBeacon - distToTargetRow_y\n",
    "\n",
    "        if remainingDist_x >= 0:\n",
    "            # we're close enough to the target, mark beacons as safe\n",
    "            start_x = max(sx - remainingDist_x, limit_min)\n",
    "            stop_x = min(sx + remainingDist_x, limit_max)\n",
    "            excludedPositions.update(range(start_x, stop_x + 1))\n",
    "\n",
    "        if by == targetRow:\n",
    "            excludedPositions.add(bx)\n",
    "        \n",
    "    excludedPositions.difference_update(beacons)\n",
    "    return excludedPositions\n",
    "\n",
    "\n",
    "sensorMap = getSensorMap()\n",
    "limits = [0,4000000]\n",
    "limit_max = max(limits)\n",
    "limit_min = min(limits)\n",
    "\n",
    "for targetRow in range(0, limit_max + 1):\n",
    "    # check each row\n",
    "    excludedPositions = getExcludedBeaconPositions(targetRow, limit_min, limit_max)\n",
    "    numPositionsExcluded = len(excludedPositions)\n",
    "    if numPositionsExcluded != limit_max + 1:\n",
    "        all = set(range(0, limit_max + 1))\n",
    "        all.difference_update(excludedPositions)\n",
    "        missing_x = next(iter(all))\n",
    "        missing_y = targetRow\n",
    "        break\n",
    "\n",
    "tuningFrequency = missing_x * 4000000 + missing_y\n",
    "print(missing_x, missing_y, tuningFrequency)\n",
    "\n",
    "# targetRow = 2000000\n",
    "# excludedPositions = getExcludedBeaconPositions(targetRow)\n",
    "# numPositionsExcluded = len(excludedPositions)\n",
    "\n",
    "# print(sorted(list(excludedPositions)))\n",
    "\n",
    "print(f'{numPositionsExcluded=}')\n"
   ]
  },
  {
   "cell_type": "code",
   "execution_count": 14,
   "metadata": {},
   "outputs": [
    {
     "name": "stdout",
     "output_type": "stream",
     "text": [
      "{3}\n"
     ]
    },
    {
     "data": {
      "text/plain": [
       "3"
      ]
     },
     "execution_count": 14,
     "metadata": {},
     "output_type": "execute_result"
    }
   ],
   "source": [
    "nums = set([1,2,4])\n",
    "all = set(range(1,4+1))\n",
    "all.difference_update(nums)\n",
    "\n",
    "print(all)\n",
    "list(all)[0]"
   ]
  }
 ],
 "metadata": {
  "kernelspec": {
   "display_name": "Python 3",
   "language": "python",
   "name": "python3"
  },
  "language_info": {
   "codemirror_mode": {
    "name": "ipython",
    "version": 3
   },
   "file_extension": ".py",
   "mimetype": "text/x-python",
   "name": "python",
   "nbconvert_exporter": "python",
   "pygments_lexer": "ipython3",
   "version": "3.10.2"
  },
  "orig_nbformat": 4,
  "vscode": {
   "interpreter": {
    "hash": "07dba96b0f5b47a7eb35937f903f829846d7d04e5209b245cc2c92bd39210318"
   }
  }
 },
 "nbformat": 4,
 "nbformat_minor": 2
}
