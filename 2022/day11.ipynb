{
 "cells": [
  {
   "attachments": {},
   "cell_type": "markdown",
   "metadata": {},
   "source": [
    "## [Day 11](https://adventofcode.com/2022/day/11)"
   ]
  },
  {
   "cell_type": "code",
   "execution_count": 74,
   "metadata": {},
   "outputs": [
    {
     "ename": "KeyboardInterrupt",
     "evalue": "",
     "output_type": "error",
     "traceback": [
      "\u001b[1;31m---------------------------------------------------------------------------\u001b[0m",
      "\u001b[1;31mKeyboardInterrupt\u001b[0m                         Traceback (most recent call last)",
      "Cell \u001b[1;32mIn[74], line 67\u001b[0m\n\u001b[0;32m     63\u001b[0m     \u001b[39mreturn\u001b[39;00m a \u001b[39m*\u001b[39m b\n\u001b[0;32m     66\u001b[0m monkeyBusinessRound1 \u001b[39m=\u001b[39m getMonkeyBusiness(\u001b[39m20\u001b[39m, \u001b[39m3\u001b[39m)\n\u001b[1;32m---> 67\u001b[0m monkeyBusinessRound2 \u001b[39m=\u001b[39m getMonkeyBusiness(\u001b[39m10000\u001b[39;49m, \u001b[39m1\u001b[39;49m)\n\u001b[0;32m     70\u001b[0m \u001b[39mprint\u001b[39m(\u001b[39mf\u001b[39m\u001b[39m'\u001b[39m\u001b[39m{\u001b[39;00mmonkeyBusinessRound1\u001b[39m=}\u001b[39;00m\u001b[39m\\n\u001b[39;00m\u001b[39m{\u001b[39;00mmonkeyBusinessRound2\u001b[39m=}\u001b[39;00m\u001b[39m'\u001b[39m)\n",
      "Cell \u001b[1;32mIn[74], line 60\u001b[0m, in \u001b[0;36mgetMonkeyBusiness\u001b[1;34m(times, worryFactor)\u001b[0m\n\u001b[0;32m     58\u001b[0m \u001b[39mdef\u001b[39;00m \u001b[39mgetMonkeyBusiness\u001b[39m(times, worryFactor):\n\u001b[0;32m     59\u001b[0m     monkeys \u001b[39m=\u001b[39m parseMonkeys()\n\u001b[1;32m---> 60\u001b[0m     playRounds(times, worryFactor, monkeys)\n\u001b[0;32m     61\u001b[0m     inspections \u001b[39m=\u001b[39m [x[\u001b[39m\"\u001b[39m\u001b[39minspections\u001b[39m\u001b[39m\"\u001b[39m] \u001b[39mfor\u001b[39;00m x \u001b[39min\u001b[39;00m monkeys]\n\u001b[0;32m     62\u001b[0m     a, b \u001b[39m=\u001b[39m \u001b[39msorted\u001b[39m(inspections, reverse\u001b[39m=\u001b[39m\u001b[39mTrue\u001b[39;00m)[:\u001b[39m2\u001b[39m]\n",
      "Cell \u001b[1;32mIn[74], line 54\u001b[0m, in \u001b[0;36mplayRounds\u001b[1;34m(times, worryFactor, monkeys)\u001b[0m\n\u001b[0;32m     52\u001b[0m \u001b[39mfor\u001b[39;00m item \u001b[39min\u001b[39;00m [monkey[\u001b[39m\"\u001b[39m\u001b[39mitems\u001b[39m\u001b[39m\"\u001b[39m]\u001b[39m.\u001b[39mpop(\u001b[39m0\u001b[39m) \u001b[39mfor\u001b[39;00m _ \u001b[39min\u001b[39;00m \u001b[39mrange\u001b[39m(\u001b[39mlen\u001b[39m(monkey[\u001b[39m\"\u001b[39m\u001b[39mitems\u001b[39m\u001b[39m\"\u001b[39m]))]:\n\u001b[0;32m     53\u001b[0m     newWorry \u001b[39m=\u001b[39m monkey[\u001b[39m\"\u001b[39m\u001b[39moperation\u001b[39m\u001b[39m\"\u001b[39m](item) \u001b[39m/\u001b[39m\u001b[39m/\u001b[39m worryFactor\n\u001b[1;32m---> 54\u001b[0m     newMonkey \u001b[39m=\u001b[39m monkey[\u001b[39m\"\u001b[39m\u001b[39mtrueThrow\u001b[39m\u001b[39m\"\u001b[39m] \u001b[39mif\u001b[39;00m newWorry \u001b[39m%\u001b[39;49m monkey[\u001b[39m\"\u001b[39;49m\u001b[39mdivisibleBy\u001b[39;49m\u001b[39m\"\u001b[39;49m] \u001b[39m==\u001b[39;49m \u001b[39m0\u001b[39;49m \u001b[39melse\u001b[39;00m monkey[\u001b[39m\"\u001b[39m\u001b[39mfalseThrow\u001b[39m\u001b[39m\"\u001b[39m]\n\u001b[0;32m     55\u001b[0m     monkeys[newMonkey][\u001b[39m\"\u001b[39m\u001b[39mitems\u001b[39m\u001b[39m\"\u001b[39m]\u001b[39m.\u001b[39mappend(newWorry)\n\u001b[0;32m     56\u001b[0m     monkey[\u001b[39m\"\u001b[39m\u001b[39minspections\u001b[39m\u001b[39m\"\u001b[39m] \u001b[39m+\u001b[39m\u001b[39m=\u001b[39m \u001b[39m1\u001b[39m\n",
      "\u001b[1;31mKeyboardInterrupt\u001b[0m: "
     ]
    }
   ],
   "source": [
    "import re\n",
    "\n",
    "with open('input/day11.txt', mode='r') as file:\n",
    "    monkeyNotes = file.read()\n",
    "\n",
    "def parseMonkeys():\n",
    "    monkeys = []\n",
    "    for monkeyNote in monkeyNotes.split(\"\\n\\n\"):\n",
    "        for line in monkeyNote.splitlines():\n",
    "            if m := re.search(\"Monkey (\\d+):\", line):\n",
    "                num = int(m.group(1))\n",
    "            elif m := re.search(\"Starting items: (.+)\", line):\n",
    "                items = [int(x) for x in m.group(1).split(',')]\n",
    "            elif m := re.search(\"Operation: new = (.+)\", line):\n",
    "                operation = parseOperation(m.group(1))\n",
    "            elif m := re.search(\"Test: divisible by (\\d+)\", line):\n",
    "                divisibleBy = int(m.group(1))\n",
    "            elif m := re.search(\"If true: throw to monkey (\\d+)\", line):\n",
    "                trueThrow = int(m.group(1))\n",
    "            elif m := re.search(\"If false: throw to monkey (\\d+)\", line):\n",
    "                falseThrow = int(m.group(1))\n",
    "\n",
    "        monkey = {\n",
    "            \"inspections\": 0,\n",
    "            \"num \": num ,\n",
    "            \"items\": items,\n",
    "            \"operation\": operation,\n",
    "            \"divisibleBy\": divisibleBy,\n",
    "            \"trueThrow\": trueThrow,\n",
    "            \"falseThrow\": falseThrow\n",
    "        }\n",
    "        monkeys.append(monkey)\n",
    "    return monkeys\n",
    "\n",
    "def parseOperation(input):\n",
    "    if m := re.search(\"old \\* (\\d+)\", input):\n",
    "        val = int(m.group(1))\n",
    "        return lambda x: x * val\n",
    "    elif m := re.search(\"old \\+ (\\d+)\", input):\n",
    "        val = int(m.group(1))\n",
    "        return lambda x: x + val\n",
    "    elif m := re.search(\"old \\* old\", input):\n",
    "        return lambda x: x * x\n",
    "    else:\n",
    "        raise ValueError(f\"Could not parse operation: '{input}'\")\n",
    "\n",
    "\n",
    "\n",
    "def playRounds(times, worryFactor, monkeys):\n",
    "    for _ in range(times):\n",
    "        for monkey in monkeys:\n",
    "            for item in [monkey[\"items\"].pop(0) for _ in range(len(monkey[\"items\"]))]:\n",
    "                newWorry = monkey[\"operation\"](item) // worryFactor\n",
    "                newMonkey = monkey[\"trueThrow\"] if newWorry % monkey[\"divisibleBy\"] == 0 else monkey[\"falseThrow\"]\n",
    "                monkeys[newMonkey][\"items\"].append(newWorry)\n",
    "                monkey[\"inspections\"] += 1\n",
    "\n",
    "def getMonkeyBusiness(times, worryFactor):\n",
    "    monkeys = parseMonkeys()\n",
    "    playRounds(times, worryFactor, monkeys)\n",
    "    inspections = [x[\"inspections\"] for x in monkeys]\n",
    "    a, b = sorted(inspections, reverse=True)[:2]\n",
    "    return a * b\n",
    "\n",
    "\n",
    "monkeyBusinessRound1 = getMonkeyBusiness(20, 3)\n",
    "\n",
    "print(f'{monkeyBusinessRound1=}')\n"
   ]
  },
  {
   "cell_type": "code",
   "execution_count": 69,
   "metadata": {},
   "outputs": [
    {
     "data": {
      "text/plain": [
       "[3, 2, 1]"
      ]
     },
     "execution_count": 69,
     "metadata": {},
     "output_type": "execute_result"
    }
   ],
   "source": [
    "sorted([2,3,1], reverse=True) # [3, 2, 1]"
   ]
  }
 ],
 "metadata": {
  "kernelspec": {
   "display_name": "Python 3.10.5 64-bit",
   "language": "python",
   "name": "python3"
  },
  "language_info": {
   "codemirror_mode": {
    "name": "ipython",
    "version": 3
   },
   "file_extension": ".py",
   "mimetype": "text/x-python",
   "name": "python",
   "nbconvert_exporter": "python",
   "pygments_lexer": "ipython3",
   "version": "3.10.5"
  },
  "orig_nbformat": 4,
  "vscode": {
   "interpreter": {
    "hash": "f312f4e3a09bfb7fe078cb3e3574063e75aca9697f016a80bb6567bf30b6b17e"
   }
  }
 },
 "nbformat": 4,
 "nbformat_minor": 2
}
