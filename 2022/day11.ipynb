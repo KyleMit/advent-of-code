{
 "cells": [
  {
   "attachments": {},
   "cell_type": "markdown",
   "metadata": {},
   "source": [
    "## [Day 11](https://adventofcode.com/2022/day/11)"
   ]
  },
  {
   "cell_type": "code",
   "execution_count": 20,
   "metadata": {},
   "outputs": [
    {
     "name": "stdout",
     "output_type": "stream",
     "text": [
      "monkeyBusinessRound1=121450\n",
      "monkeyBusinessRound2=28244037010\n"
     ]
    }
   ],
   "source": [
    "import re\n",
    "import math\n",
    "\n",
    "with open('input/day11.txt', mode='r') as file:\n",
    "    monkeyNotes = file.read()\n",
    "\n",
    "def parseMonkeys():\n",
    "    monkeys = []\n",
    "    for monkeyNote in monkeyNotes.split(\"\\n\\n\"):\n",
    "        for line in monkeyNote.splitlines():\n",
    "            if m := re.search(\"Monkey (\\d+):\", line):\n",
    "                num = int(m.group(1))\n",
    "            elif m := re.search(\"Starting items: (.+)\", line):\n",
    "                items = [int(x) for x in m.group(1).split(',')]\n",
    "            elif m := re.search(\"Operation: new = (.+)\", line):\n",
    "                operation = parseOperation(m.group(1))\n",
    "            elif m := re.search(\"Test: divisible by (\\d+)\", line):\n",
    "                divisibleBy = int(m.group(1))\n",
    "            elif m := re.search(\"If true: throw to monkey (\\d+)\", line):\n",
    "                trueThrow = int(m.group(1))\n",
    "            elif m := re.search(\"If false: throw to monkey (\\d+)\", line):\n",
    "                falseThrow = int(m.group(1))\n",
    "\n",
    "        monkey = {\n",
    "            \"inspections\": 0,\n",
    "            \"num \": num ,\n",
    "            \"items\": items,\n",
    "            \"operation\": operation,\n",
    "            \"divisibleBy\": divisibleBy,\n",
    "            \"trueThrow\": trueThrow,\n",
    "            \"falseThrow\": falseThrow\n",
    "        }\n",
    "        monkeys.append(monkey)\n",
    "    return monkeys\n",
    "\n",
    "def parseOperation(input):\n",
    "    if m := re.search(\"old \\* (\\d+)\", input):\n",
    "        val = int(m.group(1))\n",
    "        return lambda x: x * val\n",
    "    elif m := re.search(\"old \\+ (\\d+)\", input):\n",
    "        val = int(m.group(1))\n",
    "        return lambda x: x + val\n",
    "    elif m := re.search(\"old \\* old\", input):\n",
    "        return lambda x: x * x\n",
    "    else:\n",
    "        raise ValueError(f\"Could not parse operation: '{input}'\")\n",
    "\n",
    "\n",
    "\n",
    "def playRounds(times, worryFactor, monkeys):\n",
    "    for _ in range(times):\n",
    "        for monkey in monkeys:\n",
    "            for item in [monkey[\"items\"].pop(0) for _ in range(len(monkey[\"items\"]))]:\n",
    "                newWorry = monkey[\"operation\"](item) // worryFactor\n",
    "                newWorry = newWorry % lcm # manage worry\n",
    "                newMonkey = monkey[\"trueThrow\"] if newWorry % monkey[\"divisibleBy\"] == 0 else monkey[\"falseThrow\"]\n",
    "                monkeys[newMonkey][\"items\"].append(newWorry)\n",
    "                monkey[\"inspections\"] += 1\n",
    "\n",
    "def getMonkeyBusiness(times, worryFactor):\n",
    "    monkeys = parseMonkeys()\n",
    "    playRounds(times, worryFactor, monkeys)\n",
    "    inspections = [x[\"inspections\"] for x in monkeys]\n",
    "    a, b = sorted(inspections, reverse=True)[:2]\n",
    "    return a * b\n",
    "\n",
    "def lowestCommonWorryMultiple():\n",
    "    monkeys = parseMonkeys()\n",
    "    divisors = [x[\"divisibleBy\"] for x in monkeys]\n",
    "    return math.lcm(*divisors)\n",
    "\n",
    "lcm = lowestCommonWorryMultiple()\n",
    "\n",
    "monkeyBusinessRound1 = getMonkeyBusiness(20, 3)\n",
    "monkeyBusinessRound2 = getMonkeyBusiness(10000, 1)\n",
    "\n",
    "print(f'{monkeyBusinessRound1=}\\n{monkeyBusinessRound2=}')\n"
   ]
  }
 ],
 "metadata": {
  "kernelspec": {
   "display_name": "Python 3.10.5 64-bit",
   "language": "python",
   "name": "python3"
  },
  "language_info": {
   "codemirror_mode": {
    "name": "ipython",
    "version": 3
   },
   "file_extension": ".py",
   "mimetype": "text/x-python",
   "name": "python",
   "nbconvert_exporter": "python",
   "pygments_lexer": "ipython3",
   "version": "3.10.5"
  },
  "orig_nbformat": 4,
  "vscode": {
   "interpreter": {
    "hash": "f312f4e3a09bfb7fe078cb3e3574063e75aca9697f016a80bb6567bf30b6b17e"
   }
  }
 },
 "nbformat": 4,
 "nbformat_minor": 2
}
