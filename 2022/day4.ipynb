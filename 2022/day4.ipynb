{
 "cells": [
  {
   "cell_type": "markdown",
   "metadata": {},
   "source": [
    "## [Day 4](https://adventofcode.com/2022/day/4)"
   ]
  },
  {
   "cell_type": "code",
   "execution_count": 1,
   "metadata": {},
   "outputs": [
    {
     "name": "stdout",
     "output_type": "stream",
     "text": [
      "duplicatePairs=466\n",
      "overlapPairs=865\n"
     ]
    }
   ],
   "source": [
    "import re\n",
    "\n",
    "with open('input/day4.txt', mode='r') as file:\n",
    "    assignments = file.read()\n",
    "\n",
    "duplicatePairs = 0\n",
    "overlapPairs = 0\n",
    "for pair in assignments.splitlines():\n",
    "    aFirst, aLast, bFirst, bLast = [int(x) for x in re.split(\"-|,\", pair)]\n",
    "\n",
    "    if aFirst >= bFirst and aLast <= bLast or \\\n",
    "       bFirst >= aFirst and bLast <= aLast:\n",
    "        duplicatePairs += 1\n",
    "\n",
    "    if aFirst <= bFirst <= aLast or \\\n",
    "       bFirst <= aFirst <= bLast:\n",
    "        overlapPairs += 1\n",
    "\n",
    "print(f'{duplicatePairs=}\\n{overlapPairs=}')\n"
   ]
  }
 ],
 "metadata": {
  "kernelspec": {
   "display_name": "Python 3.10.5 64-bit",
   "language": "python",
   "name": "python3"
  },
  "language_info": {
   "codemirror_mode": {
    "name": "ipython",
    "version": 3
   },
   "file_extension": ".py",
   "mimetype": "text/x-python",
   "name": "python",
   "nbconvert_exporter": "python",
   "pygments_lexer": "ipython3",
   "version": "3.10.5"
  },
  "orig_nbformat": 4,
  "vscode": {
   "interpreter": {
    "hash": "f312f4e3a09bfb7fe078cb3e3574063e75aca9697f016a80bb6567bf30b6b17e"
   }
  }
 },
 "nbformat": 4,
 "nbformat_minor": 2
}
